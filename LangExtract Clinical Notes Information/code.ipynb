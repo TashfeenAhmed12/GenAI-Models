{
 "cells": [
  {
   "cell_type": "code",
   "execution_count": null,
   "id": "37fff16c",
   "metadata": {},
   "outputs": [],
   "source": [
    "import langextract as lx\n",
    "import json\n",
    "import pandas as pd\n"
   ]
  },
  {
   "cell_type": "code",
   "execution_count": null,
   "id": "9163b677",
   "metadata": {},
   "outputs": [],
   "source": [
    "#Example 1 — straightforward outpatient note\n",
    "\n",
    "example = \"A 45-year-old man visited the Outpatient department complaining of persistent lower back pain that had lasted for three weeks.\" \\\n",
    "\"He was prescribed ibuprofen 400 mg taken orally twice a day to relieve the discomfort.\"\n",
    "\n",
    "#🩺 Example 2 — surgical ward note\n",
    "\n",
    "example1 = \"A 62-year-old woman was admitted to the Surgery department for postoperative wound infection that had been present for five days./\n",
    "\"The physician started her on cefazolin 1 g intravenous every 8 hours for infection control.\""
   ]
  },
  {
   "cell_type": "code",
   "execution_count": null,
   "id": "d7e718e8",
   "metadata": {},
   "outputs": [],
   "source": [
    "\n",
    "# Define extraction prompt\n",
    "prompt_description = (\n",
    "    \"Extract patient age, department, problem, How long problem Occured, medication, dosage, route, frequency. Use exact text for extractions. \"\n",
    "    \"Do not paraphrase or overlap entities. Do not mix up the examples with input text provided. If you cannot find an entity, leave it blank.\" \\\n",
    "    \"Make sure to only extract what is explicitly mentioned in the text. Make sure to not infer any information that is not directly stated in the text.\" \\\n",
    "    \"Provide the extractions in the order specified. Do not duplicate extractions even if there are multiple answers for an entity just choose one.\" \\\n",
    "    \"Emit each unique span once. If you already output the exact same text for a class, do not repeat it.\"\n",
    ")\n",
    "\n",
    "\n",
    "# Define example data with entities in order of appearance\n",
    "examples = [\n",
    "    lx.data.ExampleData(\n",
    "        exampletext= example,\n",
    "        extractions=[\n",
    "            lx.data.Extraction(extraction_class=\"patient age\", extraction_text=\"45-year-old\"),\n",
    "            lx.data.Extraction(extraction_class=\"department\", extraction_text=\"Outpatient department\"),\n",
    "            lx.data.Extraction(extraction_class=\"problem\", extraction_text=\"complaining of persistent lower back pain\"),\n",
    "            lx.data.Extraction(extraction_class=\"How long problem Occured\", extraction_text=\"for three weeks\"),\n",
    "            lx.data.Extraction(extraction_class=\"medication\", extraction_text=\"ibuprofen\"),\n",
    "            lx.data.Extraction(extraction_class=\"dosage\", extraction_text=\"400 mg\"),\n",
    "            lx.data.Extraction(extraction_class=\"route\", extraction_text=\"orally\"),\n",
    "            lx.data.Extraction(extraction_class=\"frequency\", extraction_text=\"twice a day\"),\n",
    "\n",
    "        ]\n",
    "    )\n",
    "]\n",
    "\n",
    "\n"
   ]
  },
  {
   "cell_type": "code",
   "execution_count": null,
   "id": "2b8c12fb",
   "metadata": {},
   "outputs": [
    {
     "name": "stderr",
     "output_type": "stream",
     "text": [
      "e:\\LLM\\Extract Clinical Notes Information\\venv\\Lib\\site-packages\\langextract\\extraction.py:186: UserWarning: batch_length (10) < max_workers (20). Only 10 workers will be used. Set batch_length >= max_workers for optimal parallelization.\n",
      "  warnings.warn(\n"
     ]
    }
   ],
   "source": [
    "# get result using ollaama model llama3.2:latest already download\n",
    "\n",
    "# increase ollama api timeout\n",
    "input_text = example\n",
    "\n",
    "result = lx.extract(\n",
    "    text_or_documents=input_text,\n",
    "    prompt_description=prompt_description,\n",
    "    examples=examples,\n",
    "    model_id=\"gemma2:2b\",\n",
    "        model_url=\"http://localhost:11434\",\n",
    "    fence_output=False,\n",
    "    use_schema_constraints=False,     extraction_passes=1,    \n",
    "    max_workers=20,         # Parallel processing for speed\n",
    "                language_model_params={\n",
    "                \"keep_alive\": 10*60,   # 10 minutes\n",
    "                \"timeout\": 10*60       # 10 minutes\n",
    "            }\n",
    ")\n"
   ]
  },
  {
   "cell_type": "code",
   "execution_count": null,
   "id": "b4bb16a5",
   "metadata": {},
   "outputs": [
    {
     "name": "stdout",
     "output_type": "stream",
     "text": [
      "Input: A a sixteen year-old girl, presented to our Outpatient department with the complaints of discomfort in the neck and lower back as well as restriction of body movements. She was not able to maintain an erect posture and would tend to fall on either side while standing up from a sitting position. She would keep her head turned to the right and upwards due to the sustained contraction of the neck muscles. There was a sideways bending of the back in the lumbar region. To counter the abnormal positioning of the back and neck, she would keep her limbs in a specific position to allow her body weight to be supported. Due to the restrictions with the body movements at the neck and in the lumbar region, she would require assistance in standing and walking. She would require her parents to help her with daily chores, including all activities of self-care.\n",
      "She had been experiencing these difficulties for the past four months since when she was introduced to olanzapine tablets for the control of her exacerbated mental illness. This was not her first experience with this drug over the past seven years since she had been diagnosed with bipolar affective disorder. Her first episode of the affective disorder was that of mania at the age of eleven which was managed with the use of olanzapine tablets in 2.5–10 mg doses per day at different times. The patient developed pain and discomfort in her neck within the second week of being put on tablet olanzapine at a dose of 5 mg per day. This was associated with a sustained and abnormal contraction of the neck muscles that would pull her head to the right in an upward direction. These features had persisted for the first three years of her illness with a varying intensity, distress, and dysfunction which would tend to correlate with the dose of olanzapine. Apart from a brief period of around three weeks when she was given tablet trihexyphenidyl 4 mg per day for rigidity in her upper limbs, she was not prescribed any other psychotropic medication. The rigidity showed good response to this medication which was subsequently\n",
      "\n",
      "Extracted entities:\n",
      "• Age: sixteen year-old (pos: 4-20)\n",
      "• Department: Outpatient department (pos: 44-65)\n",
      "• Problem: complaints of discomfort in the neck and lower back as well as restriction of body movements (pos: 75-167)\n",
      "• How long problem occured: past four months\n",
      "• Medication: olanzapine\n",
      "• Age: eleven (pos: 1243-1249)\n",
      "• Department: N/A\n",
      "• Problem: exacerbated mental illness (pos: 1002-1028)\n",
      "• How long problem occured: past four months (pos: 910-926)\n",
      "• Medication: olanzapine (pos: 960-970)\n",
      "• Medication: trihexyphenidyl (pos: 1887-1902)\n",
      "• Route: tablet (pos: 1880-1886)\n",
      "• Dosage: 4 mg per day (pos: 1903-1915)\n"
     ]
    }
   ],
   "source": [
    "# Display entities with positions\n",
    "print(f\"Input: {input_text}\\n\")\n",
    "print(\"Extracted entities:\")\n",
    "for entity in result.extractions:\n",
    "    position_info = \"\"\n",
    "    if entity.char_interval:\n",
    "        start, end = entity.char_interval.start_pos, entity.char_interval.end_pos\n",
    "        position_info = f\" (pos: {start}-{end})\"\n",
    "    print(f\"• {entity.extraction_class.capitalize()}: {entity.extraction_text}{position_info}\")\n",
    "\n"
   ]
  },
  {
   "cell_type": "code",
   "execution_count": null,
   "id": "01133bc9",
   "metadata": {},
   "outputs": [
    {
     "name": "stdout",
     "output_type": "stream",
     "text": [
      "This is the case of a 56-year-old man that was complaining of a dump pain on the right back and a swelling right in this place for several weeks. The patient was in good state and very active. There was not any health problem in the past except a thoracic trauma at work one year ago. In that time the patient was diagnosed with a simple fracture of the 9th right rib without any other consequences.\n",
      "On the X-ray was seen a shadow in the lower part of the right hemithorax. After that, it was decided to perform a CT-scan of the thorax that revealed a tumor of the thoracic wall in the right hemithorax that measured 8 × 4 cm and had a heterogeneous density inside of it. The tumor had involved and destructed the 9th rib and was lying even in two adjacent intercostal spaces, but without involving the lung and muscular layers. On lung window of the CT-scan were seen micronodular infiltrations of both lungs with diameters up to 5 mm and only one nodule in lower lobe of the right lung with diameter almost 1 cm (). The mediastinum was without enlarged lymph nodes and no other lesion was seen in adjacent organs. The conclusion of the radiologist was that probably this was the case of a malignant tumor of the thoracic wall with secondary lesions in both lungs and a biopsy of the tumor was recommended.\n",
      "Because there was not a correlation between the clinical picture of the patient and the conclusion of the radiology it was decided to perform frozen biopsy of the lesions of the right lung and an excision biopsy of the tumor of the thoracic wall. So, through a small posterior thoracotomy at 7th intercostal space were sampled five nodular lesions from the right lung and a sample from the tumor. None of these samples resulted positive (no malignant cells found) after frozen biopsy. In such conditions was considered as more realistic the option of performing an oncologic resection of the tumor of the thoracic wall. (We resected three ribs where the 8th and\n"
     ]
    }
   ],
   "source": [
    "# Try on another example to test model results\n",
    "input_text1 = example1\n",
    "\n",
    "print(input_text1)"
   ]
  },
  {
   "cell_type": "code",
   "execution_count": 36,
   "id": "3c01c4a2",
   "metadata": {},
   "outputs": [],
   "source": [
    "result1 = lx.extract(\n",
    "    text_or_documents=input_text1,\n",
    "    prompt_description=prompt_description,\n",
    "    examples=examples,\n",
    "    model_id=\"gemma2:2b\",\n",
    "        model_url=\"http://localhost:11434\",\n",
    "    fence_output=False,\n",
    "    use_schema_constraints=False,     extraction_passes=1,    \n",
    "                language_model_params={\n",
    "                \"keep_alive\": 10*60,   # 10 minutes\n",
    "                \"timeout\": 10*60       # 10 minutes\n",
    "            }\n",
    ")"
   ]
  },
  {
   "cell_type": "code",
   "execution_count": 37,
   "id": "9db11a47",
   "metadata": {},
   "outputs": [
    {
     "name": "stdout",
     "output_type": "stream",
     "text": [
      "Input: This is the case of a 56-year-old man that was complaining of a dump pain on the right back and a swelling right in this place for several weeks. The patient was in good state and very active. There was not any health problem in the past except a thoracic trauma at work one year ago. In that time the patient was diagnosed with a simple fracture of the 9th right rib without any other consequences.\n",
      "On the X-ray was seen a shadow in the lower part of the right hemithorax. After that, it was decided to perform a CT-scan of the thorax that revealed a tumor of the thoracic wall in the right hemithorax that measured 8 × 4 cm and had a heterogeneous density inside of it. The tumor had involved and destructed the 9th rib and was lying even in two adjacent intercostal spaces, but without involving the lung and muscular layers. On lung window of the CT-scan were seen micronodular infiltrations of both lungs with diameters up to 5 mm and only one nodule in lower lobe of the right lung with diameter almost 1 cm (). The mediastinum was without enlarged lymph nodes and no other lesion was seen in adjacent organs. The conclusion of the radiologist was that probably this was the case of a malignant tumor of the thoracic wall with secondary lesions in both lungs and a biopsy of the tumor was recommended.\n",
      "Because there was not a correlation between the clinical picture of the patient and the conclusion of the radiology it was decided to perform frozen biopsy of the lesions of the right lung and an excision biopsy of the tumor of the thoracic wall. So, through a small posterior thoracotomy at 7th intercostal space were sampled five nodular lesions from the right lung and a sample from the tumor. None of these samples resulted positive (no malignant cells found) after frozen biopsy. In such conditions was considered as more realistic the option of performing an oncologic resection of the tumor of the thoracic wall. (We resected three ribs where the 8th and\n",
      "\n",
      "Extracted entities:\n",
      "• Age: 56 year-old (pos: 22-24)\n",
      "• Department: None\n",
      "• Problem: dump pain on the right back and a swelling right in this place for several weeks (pos: 64-144)\n",
      "• How long problem occured: several weeks (pos: 131-144)\n",
      "• Medication: None\n",
      "• Age: None (pos: 1705-1709)\n",
      "• Department: radiology (pos: 1414-1423)\n",
      "• Problem: micronodular infiltrations of both lungs with diameters up to 5 mm and only one nodule in lower lobe of the right lung with diameter almost 1 cm. (pos: 869-1013)\n",
      "• How long problem occured: None (pos: 1705-1709)\n",
      "• Medication: None (pos: 1705-1709)\n",
      "• Age: None\n",
      "• Department: null\n",
      "• Problem: oncologic resection of the tumor of the thoracic wall (pos: 1873-1926)\n",
      "• How long problem occured: None\n",
      "• Medication: None\n"
     ]
    }
   ],
   "source": [
    "# Display entities with positions\n",
    "print(f\"Input: {input_text1}\\n\")\n",
    "print(\"Extracted entities:\")\n",
    "for entity in result1.extractions:\n",
    "    position_info = \"\"\n",
    "    if entity.char_interval:\n",
    "        start, end = entity.char_interval.start_pos, entity.char_interval.end_pos\n",
    "        position_info = f\" (pos: {start}-{end})\"\n",
    "    print(f\"• {entity.extraction_class.capitalize()}: {entity.extraction_text}{position_info}\")\n",
    "\n"
   ]
  }
 ],
 "metadata": {
  "kernelspec": {
   "display_name": "venv",
   "language": "python",
   "name": "python3"
  },
  "language_info": {
   "codemirror_mode": {
    "name": "ipython",
    "version": 3
   },
   "file_extension": ".py",
   "mimetype": "text/x-python",
   "name": "python",
   "nbconvert_exporter": "python",
   "pygments_lexer": "ipython3",
   "version": "3.11.9"
  }
 },
 "nbformat": 4,
 "nbformat_minor": 5
}
