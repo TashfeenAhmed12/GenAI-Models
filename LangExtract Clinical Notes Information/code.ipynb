{
 "cells": [
  {
   "cell_type": "markdown",
   "id": "e7f20195",
   "metadata": {},
   "source": [
    "# Import Neccessary Libraries\n"
   ]
  },
  {
   "cell_type": "code",
   "execution_count": 4,
   "id": "37fff16c",
   "metadata": {},
   "outputs": [],
   "source": [
    "import langextract as lx\n",
    "import json\n",
    "import pandas as pd\n"
   ]
  },
  {
   "cell_type": "code",
   "execution_count": 6,
   "id": "9163b677",
   "metadata": {},
   "outputs": [],
   "source": [
    "#Example 1 — straightforward outpatient note\n",
    "\n",
    "example = \"A 45-year-old man visited the Outpatient department complaining of persistent lower back pain that had lasted for three weeks.\" \\\n",
    "\"He was prescribed ibuprofen 400 mg taken orally twice a day to relieve the discomfort.\"\n",
    "\n",
    "#🩺 Example 2 — surgical ward note\n",
    "\n",
    "example1 = \"A 62-year-old woman was admitted to the Surgery department for postoperative wound infection that had been present for five days.\" \\\n",
    "\"The physician started her on cefazolin 1 g intravenous every 8 hours for infection control.\""
   ]
  },
  {
   "cell_type": "code",
   "execution_count": 7,
   "id": "d7e718e8",
   "metadata": {},
   "outputs": [],
   "source": [
    "\n",
    "# Define extraction prompt\n",
    "prompt_description = (\n",
    "    \"Extract patient age, department, problem, How long problem Occured, medication, dosage, route, frequency. Use exact text for extractions. \"\n",
    "    \"Do not paraphrase or overlap entities. Do not mix up the examples with input text provided. If you cannot find an entity, leave it blank.\" \\\n",
    "    \"Make sure to only extract what is explicitly mentioned in the text. Make sure to not infer any information that is not directly stated in the text.\" \\\n",
    "    \"Provide the extractions in the order specified. Do not duplicate extractions even if there are multiple answers for an entity just choose one.\" \\\n",
    "    \"Emit each unique span once. If you already output the exact same text for a class, do not repeat it.\"\n",
    ")\n",
    "\n",
    "\n",
    "# Define example data with entities in order of appearance\n",
    "examples = [\n",
    "    lx.data.ExampleData(\n",
    "        text= example,\n",
    "        extractions=[\n",
    "            lx.data.Extraction(extraction_class=\"patient age\", extraction_text=\"45-year-old\"),\n",
    "            lx.data.Extraction(extraction_class=\"department\", extraction_text=\"Outpatient department\"),\n",
    "            lx.data.Extraction(extraction_class=\"problem\", extraction_text=\"complaining of persistent lower back pain\"),\n",
    "            lx.data.Extraction(extraction_class=\"How long problem Occured\", extraction_text=\"for three weeks\"),\n",
    "            lx.data.Extraction(extraction_class=\"medication\", extraction_text=\"ibuprofen\"),\n",
    "            lx.data.Extraction(extraction_class=\"dosage\", extraction_text=\"400 mg\"),\n",
    "            lx.data.Extraction(extraction_class=\"route\", extraction_text=\"orally\"),\n",
    "            lx.data.Extraction(extraction_class=\"frequency\", extraction_text=\"twice a day\"),\n",
    "\n",
    "        ]\n",
    "    )\n",
    "]\n",
    "\n",
    "\n"
   ]
  },
  {
   "cell_type": "code",
   "execution_count": 8,
   "id": "2b8c12fb",
   "metadata": {},
   "outputs": [
    {
     "name": "stderr",
     "output_type": "stream",
     "text": [
      "e:\\LLM\\LangExtract Clinical Notes Information\\venv\\Lib\\site-packages\\langextract\\extraction.py:186: UserWarning: batch_length (10) < max_workers (20). Only 10 workers will be used. Set batch_length >= max_workers for optimal parallelization.\n",
      "  warnings.warn(\n"
     ]
    }
   ],
   "source": [
    "# get result using ollaama model llama3.2:latest already download\n",
    "\n",
    "# increase ollama api timeout\n",
    "input_text = example\n",
    "\n",
    "result = lx.extract(\n",
    "    text_or_documents=input_text,\n",
    "    prompt_description=prompt_description,\n",
    "    examples=examples,\n",
    "    model_id=\"gemma2:2b\",\n",
    "        model_url=\"http://localhost:11434\",\n",
    "    fence_output=False,\n",
    "    use_schema_constraints=False,     extraction_passes=2,  # Multiple passes for better accuracy    \n",
    "    max_workers=20,         # Parallel processing for speed\n",
    "                language_model_params={\n",
    "                \"keep_alive\": 10*60,   # 10 minutes\n",
    "                \"timeout\": 10*60       # 10 minutes\n",
    "            }\n",
    ")\n"
   ]
  },
  {
   "cell_type": "code",
   "execution_count": 9,
   "id": "b4bb16a5",
   "metadata": {},
   "outputs": [
    {
     "name": "stdout",
     "output_type": "stream",
     "text": [
      "Input: A 45-year-old man visited the Outpatient department complaining of persistent lower back pain that had lasted for three weeks.He was prescribed ibuprofen 400 mg taken orally twice a day to relieve the discomfort.\n",
      "\n",
      "Extracted entities:\n",
      "• Patient age: 45-year-old (pos: 2-13)\n",
      "• Department: Outpatient department (pos: 30-51)\n",
      "• Problem: complaining of persistent lower back pain (pos: 52-93)\n",
      "• How long problem occured: for three weeks (pos: 110-125)\n",
      "• Medication: ibuprofen (pos: 144-153)\n",
      "• Dosage: 400 mg (pos: 154-160)\n",
      "• Route: orally (pos: 167-173)\n",
      "• Frequency: twice a day (pos: 174-185)\n"
     ]
    }
   ],
   "source": [
    "# Display entities with positions\n",
    "print(f\"Input: {input_text}\\n\")\n",
    "print(\"Extracted entities:\")\n",
    "for entity in result.extractions:\n",
    "    position_info = \"\"\n",
    "    if entity.char_interval:\n",
    "        start, end = entity.char_interval.start_pos, entity.char_interval.end_pos\n",
    "        position_info = f\" (pos: {start}-{end})\"\n",
    "    print(f\"• {entity.extraction_class.capitalize()}: {entity.extraction_text}{position_info}\")\n",
    "\n"
   ]
  },
  {
   "cell_type": "markdown",
   "id": "9b5af50e",
   "metadata": {},
   "source": [
    "Test The Model on a different Example to see the result"
   ]
  },
  {
   "cell_type": "code",
   "execution_count": 10,
   "id": "01133bc9",
   "metadata": {},
   "outputs": [
    {
     "name": "stdout",
     "output_type": "stream",
     "text": [
      "A 62-year-old woman was admitted to the Surgery department for postoperative wound infection that had been present for five days.The physician started her on cefazolin 1 g intravenous every 8 hours for infection control.\n"
     ]
    }
   ],
   "source": [
    "# Try on another example to test model results\n",
    "input_text1 = example1\n",
    "\n",
    "print(input_text1)"
   ]
  },
  {
   "cell_type": "code",
   "execution_count": 11,
   "id": "3c01c4a2",
   "metadata": {},
   "outputs": [],
   "source": [
    "result1 = lx.extract(\n",
    "    text_or_documents=input_text1,\n",
    "    prompt_description=prompt_description,\n",
    "    examples=examples,\n",
    "    model_id=\"gemma2:2b\",\n",
    "        model_url=\"http://localhost:11434\",\n",
    "    fence_output=False,\n",
    "    use_schema_constraints=False,     extraction_passes=2,  # Multiple passes for better accuracy\n",
    "                language_model_params={\n",
    "                \"keep_alive\": 10*60,   # 10 minutes\n",
    "                \"timeout\": 10*60       # 10 minutes\n",
    "            }\n",
    ")"
   ]
  },
  {
   "cell_type": "code",
   "execution_count": 12,
   "id": "9db11a47",
   "metadata": {},
   "outputs": [
    {
     "name": "stdout",
     "output_type": "stream",
     "text": [
      "Input: A 62-year-old woman was admitted to the Surgery department for postoperative wound infection that had been present for five days.The physician started her on cefazolin 1 g intravenous every 8 hours for infection control.\n",
      "\n",
      "Extracted entities:\n",
      "• Patient age: 62-year-old (pos: 2-13)\n",
      "• Department: Surgery department (pos: 40-58)\n",
      "• Problem: postoperative wound infection (pos: 63-92)\n",
      "• How long problem occured: five days (pos: 119-128)\n",
      "• Medication: cefazolin (pos: 158-167)\n",
      "• Dosage: 1 g (pos: 168-171)\n",
      "• Route: intravenous (pos: 172-183)\n",
      "• Frequency: every 8 hours (pos: 184-197)\n"
     ]
    }
   ],
   "source": [
    "# Display entities with positions\n",
    "print(f\"Input: {input_text1}\\n\")\n",
    "print(\"Extracted entities:\")\n",
    "for entity in result1.extractions:\n",
    "    position_info = \"\"\n",
    "    if entity.char_interval:\n",
    "        start, end = entity.char_interval.start_pos, entity.char_interval.end_pos\n",
    "        position_info = f\" (pos: {start}-{end})\"\n",
    "    print(f\"• {entity.extraction_class.capitalize()}: {entity.extraction_text}{position_info}\")\n",
    "\n"
   ]
  },
  {
   "cell_type": "code",
   "execution_count": 13,
   "id": "05c84822",
   "metadata": {},
   "outputs": [
    {
     "name": "stderr",
     "output_type": "stream",
     "text": [
      "\u001b[94m\u001b[1mLangExtract\u001b[0m: Saving to \u001b[92mextraction_results.jsonl\u001b[0m: 1 docs [00:00, 25.02 docs/s]"
     ]
    },
    {
     "name": "stdout",
     "output_type": "stream",
     "text": [
      "\u001b[92m✓\u001b[0m Saved \u001b[1m1\u001b[0m documents to \u001b[92mextraction_results.jsonl\u001b[0m\n"
     ]
    },
    {
     "name": "stderr",
     "output_type": "stream",
     "text": [
      "\n",
      "\u001b[94m\u001b[1mLangExtract\u001b[0m: Loading \u001b[92mextraction_results.jsonl\u001b[0m: 100%|█████████▉| 2.19k/2.20k [00:00<00:00, 104kB/s]"
     ]
    },
    {
     "name": "stdout",
     "output_type": "stream",
     "text": [
      "\u001b[92m✓\u001b[0m Loaded \u001b[1m1\u001b[0m documents from \u001b[92mextraction_results.jsonl\u001b[0m\n"
     ]
    },
    {
     "name": "stderr",
     "output_type": "stream",
     "text": [
      "\n"
     ]
    }
   ],
   "source": [
    "# Save the results to a JSON file\n",
    "lx.io.save_annotated_documents([result1], output_name=\"extraction_results.jsonl\", output_dir=\".\")\n",
    "\n",
    "html_content = lx.visualize(\"extraction_results.jsonl\")\n"
   ]
  },
  {
   "cell_type": "code",
   "execution_count": 14,
   "id": "499893db",
   "metadata": {},
   "outputs": [],
   "source": [
    "with open(\"visualization.html\", \"w\", encoding=\"utf-8\") as f:\n",
    "    f.write(html_content.data)"
   ]
  },
  {
   "cell_type": "code",
   "execution_count": 15,
   "id": "9d304ec5",
   "metadata": {},
   "outputs": [
    {
     "data": {
      "text/html": [
       "<style>\n",
       ".lx-highlight { position: relative; border-radius:3px; padding:1px 2px;}\n",
       ".lx-highlight .lx-tooltip {\n",
       "  visibility: hidden;\n",
       "  opacity: 0;\n",
       "  transition: opacity 0.2s ease-in-out;\n",
       "  background: #333;\n",
       "  color: #fff;\n",
       "  text-align: left;\n",
       "  border-radius: 4px;\n",
       "  padding: 6px 8px;\n",
       "  position: absolute;\n",
       "  z-index: 1000;\n",
       "  bottom: 125%;\n",
       "  left: 50%;\n",
       "  transform: translateX(-50%);\n",
       "  font-size: 12px;\n",
       "  max-width: 240px;\n",
       "  white-space: normal;\n",
       "  box-shadow: 0 2px 6px rgba(0,0,0,0.3);\n",
       "}\n",
       ".lx-highlight:hover .lx-tooltip { visibility: visible; opacity:1; }\n",
       ".lx-animated-wrapper { max-width: 100%; font-family: Arial, sans-serif; }\n",
       ".lx-controls {\n",
       "  background: #fafafa; border: 1px solid #90caf9; border-radius: 8px;\n",
       "  padding: 12px; margin-bottom: 16px;\n",
       "}\n",
       ".lx-button-row {\n",
       "  display: flex; justify-content: center; gap: 8px; margin-bottom: 12px;\n",
       "}\n",
       ".lx-control-btn {\n",
       "  background: #4285f4; color: white; border: none; border-radius: 4px;\n",
       "  padding: 8px 16px; cursor: pointer; font-size: 13px; font-weight: 500;\n",
       "  transition: background-color 0.2s;\n",
       "}\n",
       ".lx-control-btn:hover { background: #3367d6; }\n",
       ".lx-progress-container {\n",
       "  margin-bottom: 8px;\n",
       "}\n",
       ".lx-progress-slider {\n",
       "  width: 100%; margin: 0; appearance: none; height: 6px;\n",
       "  background: #ddd; border-radius: 3px; outline: none;\n",
       "}\n",
       ".lx-progress-slider::-webkit-slider-thumb {\n",
       "  appearance: none; width: 18px; height: 18px; background: #4285f4;\n",
       "  border-radius: 50%; cursor: pointer;\n",
       "}\n",
       ".lx-progress-slider::-moz-range-thumb {\n",
       "  width: 18px; height: 18px; background: #4285f4; border-radius: 50%;\n",
       "  cursor: pointer; border: none;\n",
       "}\n",
       ".lx-status-text {\n",
       "  text-align: center; font-size: 12px; color: #666; margin-top: 4px;\n",
       "}\n",
       ".lx-text-window {\n",
       "  font-family: monospace; white-space: pre-wrap; border: 1px solid #90caf9;\n",
       "  padding: 12px; max-height: 260px; overflow-y: auto; margin-bottom: 12px;\n",
       "  line-height: 1.6;\n",
       "}\n",
       ".lx-attributes-panel {\n",
       "  background: #fafafa; border: 1px solid #90caf9; border-radius: 6px;\n",
       "  padding: 8px 10px; margin-top: 8px; font-size: 13px;\n",
       "}\n",
       ".lx-current-highlight {\n",
       "  border-bottom: 4px solid #ff4444;\n",
       "  font-weight: bold;\n",
       "  animation: lx-pulse 1s ease-in-out;\n",
       "}\n",
       "@keyframes lx-pulse {\n",
       "  0% { text-decoration-color: #ff4444; }\n",
       "  50% { text-decoration-color: #ff0000; }\n",
       "  100% { text-decoration-color: #ff4444; }\n",
       "}\n",
       ".lx-legend {\n",
       "  font-size: 12px; margin-bottom: 8px;\n",
       "  padding-bottom: 8px; border-bottom: 1px solid #e0e0e0;\n",
       "}\n",
       ".lx-label {\n",
       "  display: inline-block;\n",
       "  padding: 2px 4px;\n",
       "  border-radius: 3px;\n",
       "  margin-right: 4px;\n",
       "  color: #000;\n",
       "}\n",
       ".lx-attr-key {\n",
       "  font-weight: 600;\n",
       "  color: #1565c0;\n",
       "  letter-spacing: 0.3px;\n",
       "}\n",
       ".lx-attr-value {\n",
       "  font-weight: 400;\n",
       "  opacity: 0.85;\n",
       "  letter-spacing: 0.2px;\n",
       "}\n",
       "\n",
       "/* Add optimizations with larger fonts and better readability for GIFs */\n",
       ".lx-gif-optimized .lx-text-window { font-size: 16px; line-height: 1.8; }\n",
       ".lx-gif-optimized .lx-attributes-panel { font-size: 15px; }\n",
       ".lx-gif-optimized .lx-current-highlight { text-decoration-thickness: 4px; }\n",
       "</style>\n",
       "<div class=\"lx-animated-wrapper lx-gif-optimized\">\n",
       "  <div class=\"lx-attributes-panel\">\n",
       "    <div class=\"lx-legend\">Highlights Legend: <span class=\"lx-label\" style=\"background-color:#D2E3FC;\">How long problem Occured</span> <span class=\"lx-label\" style=\"background-color:#C8E6C9;\">department</span> <span class=\"lx-label\" style=\"background-color:#FEF0C3;\">dosage</span> <span class=\"lx-label\" style=\"background-color:#F9DEDC;\">frequency</span> <span class=\"lx-label\" style=\"background-color:#FFDDBE;\">medication</span> <span class=\"lx-label\" style=\"background-color:#EADDFF;\">patient age</span> <span class=\"lx-label\" style=\"background-color:#C4E9E4;\">problem</span> <span class=\"lx-label\" style=\"background-color:#FCE4EC;\">route</span></div>\n",
       "    <div id=\"attributesContainer\"></div>\n",
       "  </div>\n",
       "  <div class=\"lx-text-window\" id=\"textWindow\">\n",
       "    A <span class=\"lx-highlight lx-current-highlight\" data-idx=\"0\" style=\"background-color:#EADDFF;\">62-year-old</span> woman was admitted to the <span class=\"lx-highlight\" data-idx=\"1\" style=\"background-color:#C8E6C9;\">Surgery department</span> for <span class=\"lx-highlight\" data-idx=\"2\" style=\"background-color:#C4E9E4;\">postoperative wound infection</span> that had been present for <span class=\"lx-highlight\" data-idx=\"3\" style=\"background-color:#D2E3FC;\">five days</span>.The physician started her on <span class=\"lx-highlight\" data-idx=\"4\" style=\"background-color:#FFDDBE;\">cefazolin</span> <span class=\"lx-highlight\" data-idx=\"5\" style=\"background-color:#FEF0C3;\">1 g</span> <span class=\"lx-highlight\" data-idx=\"6\" style=\"background-color:#FCE4EC;\">intravenous</span> <span class=\"lx-highlight\" data-idx=\"7\" style=\"background-color:#F9DEDC;\">every 8 hours</span> for infection control.\n",
       "  </div>\n",
       "  <div class=\"lx-controls\">\n",
       "    <div class=\"lx-button-row\">\n",
       "      <button class=\"lx-control-btn\" onclick=\"playPause()\">▶️ Play</button>\n",
       "      <button class=\"lx-control-btn\" onclick=\"prevExtraction()\">⏮ Previous</button>\n",
       "      <button class=\"lx-control-btn\" onclick=\"nextExtraction()\">⏭ Next</button>\n",
       "    </div>\n",
       "    <div class=\"lx-progress-container\">\n",
       "      <input type=\"range\" id=\"progressSlider\" class=\"lx-progress-slider\"\n",
       "             min=\"0\" max=\"7\" value=\"0\"\n",
       "             onchange=\"jumpToExtraction(this.value)\">\n",
       "    </div>\n",
       "    <div class=\"lx-status-text\">\n",
       "      Entity <span id=\"entityInfo\">1/8</span> |\n",
       "      Pos <span id=\"posInfo\">[2-13]</span>\n",
       "    </div>\n",
       "  </div>\n",
       "</div>\n",
       "\n",
       "<script>\n",
       "  (function() {\n",
       "    const extractions = [{\"index\": 0, \"class\": \"patient age\", \"text\": \"62-year-old\", \"color\": \"#EADDFF\", \"startPos\": 2, \"endPos\": 13, \"beforeText\": \"A \", \"extractionText\": \"62-year-old\", \"afterText\": \" woman was admitted to the Surgery department for postoperative wound infection that had been present for five days.The physician started her on cefaz\", \"attributesHtml\": \"<div><strong>class:</strong> patient age</div><div><strong>attributes:</strong> {}</div>\"}, {\"index\": 1, \"class\": \"department\", \"text\": \"Surgery department\", \"color\": \"#C8E6C9\", \"startPos\": 40, \"endPos\": 58, \"beforeText\": \"A 62-year-old woman was admitted to the \", \"extractionText\": \"Surgery department\", \"afterText\": \" for postoperative wound infection that had been present for five days.The physician started her on cefazolin 1 g intravenous every 8 hours for infect\", \"attributesHtml\": \"<div><strong>class:</strong> department</div><div><strong>attributes:</strong> {}</div>\"}, {\"index\": 2, \"class\": \"problem\", \"text\": \"postoperative wound infection\", \"color\": \"#C4E9E4\", \"startPos\": 63, \"endPos\": 92, \"beforeText\": \"A 62-year-old woman was admitted to the Surgery department for \", \"extractionText\": \"postoperative wound infection\", \"afterText\": \" that had been present for five days.The physician started her on cefazolin 1 g intravenous every 8 hours for infection control.\", \"attributesHtml\": \"<div><strong>class:</strong> problem</div><div><strong>attributes:</strong> {}</div>\"}, {\"index\": 3, \"class\": \"How long problem Occured\", \"text\": \"five days\", \"color\": \"#D2E3FC\", \"startPos\": 119, \"endPos\": 128, \"beforeText\": \"A 62-year-old woman was admitted to the Surgery department for postoperative wound infection that had been present for \", \"extractionText\": \"five days\", \"afterText\": \".The physician started her on cefazolin 1 g intravenous every 8 hours for infection control.\", \"attributesHtml\": \"<div><strong>class:</strong> How long problem Occured</div><div><strong>attributes:</strong> {}</div>\"}, {\"index\": 4, \"class\": \"medication\", \"text\": \"cefazolin\", \"color\": \"#FFDDBE\", \"startPos\": 158, \"endPos\": 167, \"beforeText\": \"r-old woman was admitted to the Surgery department for postoperative wound infection that had been present for five days.The physician started her on \", \"extractionText\": \"cefazolin\", \"afterText\": \" 1 g intravenous every 8 hours for infection control.\", \"attributesHtml\": \"<div><strong>class:</strong> medication</div><div><strong>attributes:</strong> {}</div>\"}, {\"index\": 5, \"class\": \"dosage\", \"text\": \"1 g\", \"color\": \"#FEF0C3\", \"startPos\": 168, \"endPos\": 171, \"beforeText\": \"n was admitted to the Surgery department for postoperative wound infection that had been present for five days.The physician started her on cefazolin \", \"extractionText\": \"1 g\", \"afterText\": \" intravenous every 8 hours for infection control.\", \"attributesHtml\": \"<div><strong>class:</strong> dosage</div><div><strong>attributes:</strong> {}</div>\"}, {\"index\": 6, \"class\": \"route\", \"text\": \"intravenous\", \"color\": \"#FCE4EC\", \"startPos\": 172, \"endPos\": 183, \"beforeText\": \"s admitted to the Surgery department for postoperative wound infection that had been present for five days.The physician started her on cefazolin 1 g \", \"extractionText\": \"intravenous\", \"afterText\": \" every 8 hours for infection control.\", \"attributesHtml\": \"<div><strong>class:</strong> route</div><div><strong>attributes:</strong> {}</div>\"}, {\"index\": 7, \"class\": \"frequency\", \"text\": \"every 8 hours\", \"color\": \"#F9DEDC\", \"startPos\": 184, \"endPos\": 197, \"beforeText\": \"o the Surgery department for postoperative wound infection that had been present for five days.The physician started her on cefazolin 1 g intravenous \", \"extractionText\": \"every 8 hours\", \"afterText\": \" for infection control.\", \"attributesHtml\": \"<div><strong>class:</strong> frequency</div><div><strong>attributes:</strong> {}</div>\"}];\n",
       "    let currentIndex = 0;\n",
       "    let isPlaying = false;\n",
       "    let animationInterval = null;\n",
       "    let animationSpeed = 1.0;\n",
       "\n",
       "    function updateDisplay() {\n",
       "      const extraction = extractions[currentIndex];\n",
       "      if (!extraction) return;\n",
       "\n",
       "      document.getElementById('attributesContainer').innerHTML = extraction.attributesHtml;\n",
       "      document.getElementById('entityInfo').textContent = (currentIndex + 1) + '/' + extractions.length;\n",
       "      document.getElementById('posInfo').textContent = '[' + extraction.startPos + '-' + extraction.endPos + ']';\n",
       "      document.getElementById('progressSlider').value = currentIndex;\n",
       "\n",
       "      const playBtn = document.querySelector('.lx-control-btn');\n",
       "      if (playBtn) playBtn.textContent = isPlaying ? '⏸ Pause' : '▶️ Play';\n",
       "\n",
       "      const prevHighlight = document.querySelector('.lx-text-window .lx-current-highlight');\n",
       "      if (prevHighlight) prevHighlight.classList.remove('lx-current-highlight');\n",
       "      const currentSpan = document.querySelector('.lx-text-window span[data-idx=\"' + currentIndex + '\"]');\n",
       "      if (currentSpan) {\n",
       "        currentSpan.classList.add('lx-current-highlight');\n",
       "        currentSpan.scrollIntoView({block: 'center', behavior: 'smooth'});\n",
       "      }\n",
       "    }\n",
       "\n",
       "    function nextExtraction() {\n",
       "      currentIndex = (currentIndex + 1) % extractions.length;\n",
       "      updateDisplay();\n",
       "    }\n",
       "\n",
       "    function prevExtraction() {\n",
       "      currentIndex = (currentIndex - 1 + extractions.length) % extractions.length;\n",
       "      updateDisplay();\n",
       "    }\n",
       "\n",
       "    function jumpToExtraction(index) {\n",
       "      currentIndex = parseInt(index);\n",
       "      updateDisplay();\n",
       "    }\n",
       "\n",
       "    function playPause() {\n",
       "      if (isPlaying) {\n",
       "        clearInterval(animationInterval);\n",
       "        isPlaying = false;\n",
       "      } else {\n",
       "        animationInterval = setInterval(nextExtraction, animationSpeed * 1000);\n",
       "        isPlaying = true;\n",
       "      }\n",
       "      updateDisplay();\n",
       "    }\n",
       "\n",
       "    window.playPause = playPause;\n",
       "    window.nextExtraction = nextExtraction;\n",
       "    window.prevExtraction = prevExtraction;\n",
       "    window.jumpToExtraction = jumpToExtraction;\n",
       "\n",
       "    updateDisplay();\n",
       "  })();\n",
       "</script>"
      ],
      "text/plain": [
       "<IPython.core.display.HTML object>"
      ]
     },
     "execution_count": 15,
     "metadata": {},
     "output_type": "execute_result"
    }
   ],
   "source": [
    "html_content"
   ]
  }
 ],
 "metadata": {
  "kernelspec": {
   "display_name": "venv",
   "language": "python",
   "name": "python3"
  },
  "language_info": {
   "codemirror_mode": {
    "name": "ipython",
    "version": 3
   },
   "file_extension": ".py",
   "mimetype": "text/x-python",
   "name": "python",
   "nbconvert_exporter": "python",
   "pygments_lexer": "ipython3",
   "version": "3.11.9"
  }
 },
 "nbformat": 4,
 "nbformat_minor": 5
}
